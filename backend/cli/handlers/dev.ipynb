{
 "cells": [
  {
   "cell_type": "code",
   "execution_count": 10,
   "metadata": {},
   "outputs": [
    {
     "data": {
      "text/plain": [
       "{'A': {'count': 4.0,\n",
       "  'unique': None,\n",
       "  'top': None,\n",
       "  'freq': None,\n",
       "  'mean': 2.5,\n",
       "  'std': 1.2909944487,\n",
       "  'min': 1.0,\n",
       "  '25%': 1.75,\n",
       "  '50%': 2.5,\n",
       "  '75%': 3.25,\n",
       "  'max': 4.0},\n",
       " 'B': {'count': 4.0,\n",
       "  'unique': None,\n",
       "  'top': None,\n",
       "  'freq': None,\n",
       "  'mean': 6.5,\n",
       "  'std': 1.2909944487,\n",
       "  'min': 5.0,\n",
       "  '25%': 5.75,\n",
       "  '50%': 6.5,\n",
       "  '75%': 7.25,\n",
       "  'max': 8.0},\n",
       " 'C': {'count': 4,\n",
       "  'unique': 4,\n",
       "  'top': 'a',\n",
       "  'freq': 1,\n",
       "  'mean': None,\n",
       "  'std': None,\n",
       "  'min': None,\n",
       "  '25%': None,\n",
       "  '50%': None,\n",
       "  '75%': None,\n",
       "  'max': None}}"
      ]
     },
     "execution_count": 10,
     "metadata": {},
     "output_type": "execute_result"
    }
   ],
   "source": [
    "import pandas as pd\n",
    "import json\n",
    "\n",
    "\n",
    "df = pd.DataFrame({\n",
    "    'A': [1, 2, 3, 4],\n",
    "    'B': [5, 6, 7, 8],\n",
    "    'C': ['a', 'b', 'c', 'd']\n",
    "})\n",
    "\n",
    "json.loads(df.describe(include='all').to_json())"
   ]
  }
 ],
 "metadata": {
  "kernelspec": {
   "display_name": "base",
   "language": "python",
   "name": "python3"
  },
  "language_info": {
   "codemirror_mode": {
    "name": "ipython",
    "version": 3
   },
   "file_extension": ".py",
   "mimetype": "text/x-python",
   "name": "python",
   "nbconvert_exporter": "python",
   "pygments_lexer": "ipython3",
   "version": "3.9.13"
  }
 },
 "nbformat": 4,
 "nbformat_minor": 2
}
